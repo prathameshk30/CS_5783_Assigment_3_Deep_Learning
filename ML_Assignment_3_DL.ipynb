{
  "nbformat": 4,
  "nbformat_minor": 0,
  "metadata": {
    "colab": {
      "provenance": [],
      "collapsed_sections": []
    },
    "kernelspec": {
      "name": "python3",
      "display_name": "Python 3"
    },
    "language_info": {
      "name": "python"
    },
    "accelerator": "GPU",
    "gpuClass": "standard"
  },
  "cells": [
    {
      "cell_type": "code",
      "execution_count": null,
      "metadata": {
        "id": "GpKHCHx-vQtf"
      },
      "outputs": [],
      "source": [
        "import pandas as pd\n",
        "import numpy as np\n",
        "import math\n",
        "import tensorflow\n",
        "from keras.optimizers import SGD\n",
        "import matplotlib.pyplot as plt\n",
        "from tensorflow.keras.utils import to_categorical\n",
        "from tensorflow.keras.layers import Conv2D, Flatten,Dense,MaxPool2D\n",
        "from tensorflow.keras.models import Sequential\n",
        "from keras.datasets import mnist\n",
        "from tensorflow import keras\n",
        "from keras import optimizers"
      ]
    },
    {
      "cell_type": "code",
      "source": [
        "tensorflow.random.set_seed(0)"
      ],
      "metadata": {
        "id": "2ElVDrZ9vTh5"
      },
      "execution_count": null,
      "outputs": []
    },
    {
      "cell_type": "code",
      "source": [
        "(X, y), (X_test, y_test) =mnist.load_data()"
      ],
      "metadata": {
        "id": "zSlpT4bHva6U"
      },
      "execution_count": null,
      "outputs": []
    },
    {
      "cell_type": "code",
      "source": [
        "#plotting\n",
        "from matplotlib import pyplot\n",
        "for i in range(5):  \n",
        "  pyplot.subplot(330 + 1 + i)\n",
        "  pyplot.imshow(X[i], cmap=pyplot.get_cmap('gray'))\n",
        "  pyplot.show()"
      ],
      "metadata": {
        "colab": {
          "base_uri": "https://localhost:8080/",
          "height": 507
        },
        "id": "nY3R1uQ8vgaX",
        "outputId": "dd70c973-503a-4d5e-c145-11d359b158fd"
      },
      "execution_count": null,
      "outputs": [
        {
          "output_type": "display_data",
          "data": {
            "text/plain": [
              "<Figure size 432x288 with 1 Axes>"
            ],
            "image/png": "[encoded data removed]"
          },
          "metadata": {
            "needs_background": "light"
          }
        },
        {
          "output_type": "display_data",
          "data": {
            "text/plain": [
              "<Figure size 432x288 with 1 Axes>"
            ],
            "image/png": "[encoded data removed]"
          },
          "metadata": {
            "needs_background": "light"
          }
        },
        {
          "output_type": "display_data",
          "data": {
            "text/plain": [
              "<Figure size 432x288 with 1 Axes>"
            ],
            "image/png": "[encoded data removed]"
          },
          "metadata": {
            "needs_background": "light"
          }
        },
        {
          "output_type": "display_data",
          "data": {
            "text/plain": [
              "<Figure size 432x288 with 1 Axes>"
            ],
            "image/png": "[encoded data removed]"
          },
          "metadata": {
            "needs_background": "light"
          }
        },
        {
          "output_type": "display_data",
          "data": {
            "text/plain": [
              "<Figure size 432x288 with 1 Axes>"
            ],
            "image/png": "[encoded data removed]"
          },
          "metadata": {
            "needs_background": "light"
          }
        }
      ]
    },
    {
      "cell_type": "code",
      "source": [
        "#shape of dataset\n",
        "print('X_train: ' + str(X.shape))\n",
        "print('Y_train: ' + str(y.shape))\n",
        "print('X_test:  '  + str(X_test.shape))\n",
        "print('Y_test:  '  + str(y_test.shape))"
      ],
      "metadata": {
        "colab": {
          "base_uri": "https://localhost:8080/"
        },
        "id": "f0pqRzvbvxNO",
        "outputId": "58a42f21-c38f-4147-a9e9-1dd22052979f"
      },
      "execution_count": null,
      "outputs": [
        {
          "output_type": "stream",
          "name": "stdout",
          "text": [
            "X_train: (60000, 28, 28)\n",
            "Y_train: (60000,)\n",
            "X_test:  (10000, 28, 28)\n",
            "Y_test:  (10000,)\n"
          ]
        }
      ]
    },
    {
      "cell_type": "markdown",
      "source": [
        "Normalizing"
      ],
      "metadata": {
        "id": "-rQLUFajwcQ5"
      }
    },
    {
      "cell_type": "code",
      "source": [
        "X = X.reshape(X.shape[0], 28, 28, 1)\n",
        "X_test = X_test.reshape(X_test.shape[0], 28, 28, 1)"
      ],
      "metadata": {
        "id": "nL564HQOwILo"
      },
      "execution_count": null,
      "outputs": []
    },
    {
      "cell_type": "code",
      "source": [
        "X, X_test = X.astype('float32')/255.0, X_test.astype('float32')/255.0"
      ],
      "metadata": {
        "id": "lpEJWqjcwg26"
      },
      "execution_count": null,
      "outputs": []
    },
    {
      "cell_type": "markdown",
      "source": [
        "One Hot Encoding the output"
      ],
      "metadata": {
        "id": "WHQBNScnwtiB"
      }
    },
    {
      "cell_type": "code",
      "source": [
        "y = to_categorical(y, num_classes=10)\n",
        "y_test = to_categorical(y_test, num_classes=10)\n",
        "\n",
        "print(\"Shape of y_train:\", y.shape)\n",
        "print(\"One value of y_train:\", y[0])"
      ],
      "metadata": {
        "colab": {
          "base_uri": "https://localhost:8080/"
        },
        "id": "HujNzYv4wmkN",
        "outputId": "6f92e5f3-d99a-42db-9fc0-abbb6569fb5e"
      },
      "execution_count": null,
      "outputs": [
        {
          "output_type": "stream",
          "name": "stdout",
          "text": [
            "Shape of y_train: (60000, 10)\n",
            "One value of y_train: [0. 0. 0. 0. 0. 1. 0. 0. 0. 0.]\n"
          ]
        }
      ]
    },
    {
      "cell_type": "markdown",
      "source": [
        "# **Model 1:-Lth layer will have more filters than the (L-1)th layer.**"
      ],
      "metadata": {
        "id": "IS4uwCXYxFWB"
      }
    },
    {
      "cell_type": "code",
      "source": [
        "model = Sequential()\n",
        "model.add(Conv2D(filters= 6, kernel_size=3, activation=\"relu\", input_shape=(28, 28, 1)))\n",
        "model.add(Conv2D(filters= 8, kernel_size=3, activation=\"relu\"))\n",
        "model.add(Conv2D(filters= 10, kernel_size=3, activation=\"relu\"))\n",
        "model.add(Conv2D(filters= 12, kernel_size=3, padding = \"Same\", activation=\"relu\"))\n",
        "model.add(Conv2D(filters= 16, kernel_size=3, activation=\"relu\"))\n",
        "model.add(Conv2D(filters= 24, kernel_size=3, activation=\"relu\"))\n",
        "model.add(Conv2D(filters= 28, kernel_size=3, activation=\"relu\"))\n",
        "model.add(Conv2D(filters= 34, kernel_size=3, padding = \"Same\",activation=\"relu\"))\n",
        "model.add(MaxPool2D())\n",
        "model.add(Conv2D(filters= 40, kernel_size=3,activation=\"relu\"))\n",
        "model.add(Conv2D(filters= 64, kernel_size=3, activation=\"relu\"))\n",
        "model.add(Flatten())\n",
        "model.add(Dense(32, activation=\"relu\"))\n",
        "model.add(Dense(10, activation=\"softmax\"))\n"
      ],
      "metadata": {
        "id": "F4EGZTy-xB_N"
      },
      "execution_count": null,
      "outputs": []
    },
    {
      "cell_type": "code",
      "source": [
        "mod = model\n",
        "mod.summary()"
      ],
      "metadata": {
        "colab": {
          "base_uri": "https://localhost:8080/"
        },
        "id": "-XsqOJrKxaJs",
        "outputId": "a9b94641-b6ce-48ae-d10b-5fdd148951fd"
      },
      "execution_count": null,
      "outputs": [
        {
          "output_type": "stream",
          "name": "stdout",
          "text": [
            "Model: \"sequential_3\"\n",
            "_________________________________________________________________\n",
            " Layer (type)                Output Shape              Param #   \n",
            "=================================================================\n",
            " conv2d_30 (Conv2D)          (None, 26, 26, 6)         60        \n",
            "                                                                 \n",
            " conv2d_31 (Conv2D)          (None, 24, 24, 8)         440       \n",
            "                                                                 \n",
            " conv2d_32 (Conv2D)          (None, 22, 22, 10)        730       \n",
            "                                                                 \n",
            " conv2d_33 (Conv2D)          (None, 22, 22, 12)        1092      \n",
            "                                                                 \n",
            " conv2d_34 (Conv2D)          (None, 20, 20, 16)        1744      \n",
            "                                                                 \n",
            " conv2d_35 (Conv2D)          (None, 18, 18, 24)        3480      \n",
            "                                                                 \n",
            " conv2d_36 (Conv2D)          (None, 16, 16, 28)        6076      \n",
            "                                                                 \n",
            " conv2d_37 (Conv2D)          (None, 16, 16, 34)        8602      \n",
            "                                                                 \n",
            " max_pooling2d_3 (MaxPooling  (None, 8, 8, 34)         0         \n",
            " 2D)                                                             \n",
            "                                                                 \n",
            " conv2d_38 (Conv2D)          (None, 6, 6, 40)          12280     \n",
            "                                                                 \n",
            " conv2d_39 (Conv2D)          (None, 4, 4, 64)          23104     \n",
            "                                                                 \n",
            " flatten_3 (Flatten)         (None, 1024)              0         \n",
            "                                                                 \n",
            " dense_6 (Dense)             (None, 32)                32800     \n",
            "                                                                 \n",
            " dense_7 (Dense)             (None, 10)                330       \n",
            "                                                                 \n",
            "=================================================================\n",
            "Total params: 90,738\n",
            "Trainable params: 90,738\n",
            "Non-trainable params: 0\n",
            "_________________________________________________________________\n"
          ]
        }
      ]
    },
    {
      "cell_type": "code",
      "source": [
        "lr=0.00001\n",
        "lr_rate=[0.0005,0.0001, 0.001, 0.00001, 0.000001]\n",
        "batch_sizes = [10,50,100,200,500,1000]\n",
        "Learning_rate = []\n",
        "Loss = []\n",
        "batch_size = []\n",
        "Accuracy = []\n",
        "opt = []\n",
        "name=[\"SGD\",\"Adam\",\"RMSprop\"]\n",
        "model_list = [tensorflow.keras.optimizers.SGD(learning_rate= lr),tensorflow.keras.optimizers.Adam(learning_rate= lr,beta_1 =0.8), tensorflow.keras.optimizers.RMSprop(learning_rate= lr)]\n",
        "for optimization_method,k in zip(model_list,name):\n",
        "    for i in range(3):\n",
        "      lr = lr_rate[np.random.randint(0,len(lr_rate)-1)]\n",
        "      batch = np.random.randint(0,len(batch_sizes)-1)\n",
        "      model = model\n",
        "      print('The type of optimizer we are using is :-')\n",
        "      print((k))\n",
        "      model.compile(loss='categorical_crossentropy',optimizer = optimization_method,metrics = ['accuracy'])\n",
        "      model.fit(X,y, epochs= 1,batch_size = batch_sizes[batch])\n",
        "      loss,accuracy = model.evaluate(X_test,y_test)\n",
        "\n",
        "      Learning_rate.append(lr)\n",
        "      Loss.append(loss)\n",
        "      Accuracy.append(accuracy)\n",
        "      batch_size.append(batch_sizes[batch])\n",
        "\n",
        "      print('Accuracy on the Validation Data is {0} and the loss is {1}'.format(accuracy,loss))"
      ],
      "metadata": {
        "colab": {
          "base_uri": "https://localhost:8080/"
        },
        "id": "1VdI-cSn9FO1",
        "outputId": "9fabd310-5710-4fd5-f4fe-7a331911387a"
      },
      "execution_count": null,
      "outputs": [
        {
          "output_type": "stream",
          "name": "stdout",
          "text": [
            "The type of optimizer we are using is :-\n",
            "SGD\n",
            "300/300 [==============================] - 4s 12ms/step - loss: 2.3020 - accuracy: 0.1737\n",
            "313/313 [==============================] - 1s 4ms/step - loss: 2.3019 - accuracy: 0.1819\n",
            "Accuracy on the Validation Data is 0.1818999946117401 and the loss is 2.3019332885742188\n",
            "The type of optimizer we are using is :-\n",
            "SGD\n",
            "6000/6000 [==============================] - 30s 5ms/step - loss: 2.3018 - accuracy: 0.1665\n",
            "313/313 [==============================] - 1s 4ms/step - loss: 2.3016 - accuracy: 0.1510\n",
            "Accuracy on the Validation Data is 0.1509999930858612 and the loss is 2.3015832901000977\n",
            "The type of optimizer we are using is :-\n",
            "SGD\n",
            "600/600 [==============================] - 5s 7ms/step - loss: 2.3016 - accuracy: 0.1467\n",
            "313/313 [==============================] - 1s 3ms/step - loss: 2.3016 - accuracy: 0.1476\n",
            "Accuracy on the Validation Data is 0.147599995136261 and the loss is 2.3015520572662354\n",
            "The type of optimizer we are using is :-\n",
            "Adam\n",
            "6000/6000 [==============================] - 32s 5ms/step - loss: 0.7908 - accuracy: 0.7584\n",
            "313/313 [==============================] - 1s 4ms/step - loss: 0.3774 - accuracy: 0.8872\n",
            "Accuracy on the Validation Data is 0.8871999979019165 and the loss is 0.3773624897003174\n",
            "The type of optimizer we are using is :-\n",
            "Adam\n",
            "120/120 [==============================] - 4s 28ms/step - loss: 0.3879 - accuracy: 0.8870\n",
            "313/313 [==============================] - 1s 3ms/step - loss: 0.3539 - accuracy: 0.8950\n",
            "Accuracy on the Validation Data is 0.8949999809265137 and the loss is 0.3538588583469391\n",
            "The type of optimizer we are using is :-\n",
            "Adam\n",
            "300/300 [==============================] - 4s 12ms/step - loss: 0.3790 - accuracy: 0.8887\n",
            "313/313 [==============================] - 1s 3ms/step - loss: 0.3440 - accuracy: 0.8989\n",
            "Accuracy on the Validation Data is 0.8988999724388123 and the loss is 0.3440048396587372\n",
            "The type of optimizer we are using is :-\n",
            "RMSprop\n",
            "1200/1200 [==============================] - 9s 7ms/step - loss: 0.3541 - accuracy: 0.8952\n",
            "313/313 [==============================] - 1s 3ms/step - loss: 0.3148 - accuracy: 0.9044\n",
            "Accuracy on the Validation Data is 0.9043999910354614 and the loss is 0.31484827399253845\n",
            "The type of optimizer we are using is :-\n",
            "RMSprop\n",
            "600/600 [==============================] - 6s 8ms/step - loss: 0.3172 - accuracy: 0.9054\n",
            "313/313 [==============================] - 1s 3ms/step - loss: 0.2882 - accuracy: 0.9131\n",
            "Accuracy on the Validation Data is 0.913100004196167 and the loss is 0.288190096616745\n",
            "The type of optimizer we are using is :-\n",
            "RMSprop\n",
            "600/600 [==============================] - 6s 8ms/step - loss: 0.2956 - accuracy: 0.9120\n",
            "313/313 [==============================] - 1s 3ms/step - loss: 0.2712 - accuracy: 0.9186\n",
            "Accuracy on the Validation Data is 0.9186000227928162 and the loss is 0.27124011516571045\n"
          ]
        }
      ]
    },
    {
      "cell_type": "code",
      "source": [
        "# Visualizng the Results\n",
        "df = pd.DataFrame(Learning_rate,columns=['Learning Rate'])\n",
        "df['Optimizers'] = [\"SGD\",\"SGD\",\"SGD\",\"Adam\",\"Adam\",\"Adam\",\"RMSprop\",\"RMSprop\",\"RMSprop\"]\n",
        "df['Batch_size'] = batch_size\n",
        "df['Loss'] = Loss\n",
        "df['Accuracy'] = Accuracy"
      ],
      "metadata": {
        "id": "Z2R9Xb7H91MS"
      },
      "execution_count": null,
      "outputs": []
    },
    {
      "cell_type": "code",
      "source": [
        "df"
      ],
      "metadata": {
        "colab": {
          "base_uri": "https://localhost:8080/",
          "height": 332
        },
        "id": "03vY1S3uG3cH",
        "outputId": "6de3f187-0735-4f93-eb0e-f6a2bf048077"
      },
      "execution_count": null,
      "outputs": [
        {
          "output_type": "execute_result",
          "data": {
            "text/plain": [
              "   Learning Rate Optimizers  Batch_size      Loss  Accuracy\n",
              "0        0.00100        SGD         200  2.301933    0.1819\n",
              "1        0.00050        SGD          10  2.301583    0.1510\n",
              "2        0.00010        SGD         100  2.301552    0.1476\n",
              "3        0.00100       Adam          10  0.377362    0.8872\n",
              "4        0.00001       Adam         500  0.353859    0.8950\n",
              "5        0.00050       Adam         200  0.344005    0.8989\n",
              "6        0.00001    RMSprop          50  0.314848    0.9044\n",
              "7        0.00001    RMSprop         100  0.288190    0.9131\n",
              "8        0.00050    RMSprop         100  0.271240    0.9186"
            ],
            "text/html": [
              "\n",
              "  <div id=\"df-69041257-7c6c-441a-bd48-bff42604f3b3\">\n",
              "    <div class=\"colab-df-container\">\n",
              "      <div>\n",
              "<style scoped>\n",
              "    .dataframe tbody tr th:only-of-type {\n",
              "        vertical-align: middle;\n",
              "    }\n",
              "\n",
              "    .dataframe tbody tr th {\n",
              "        vertical-align: top;\n",
              "    }\n",
              "\n",
              "    .dataframe thead th {\n",
              "        text-align: right;\n",
              "    }\n",
              "</style>\n",
              "<table border=\"1\" class=\"dataframe\">\n",
              "  <thead>\n",
              "    <tr style=\"text-align: right;\">\n",
              "      <th></th>\n",
              "      <th>Learning Rate</th>\n",
              "      <th>Optimizers</th>\n",
              "      <th>Batch_size</th>\n",
              "      <th>Loss</th>\n",
              "      <th>Accuracy</th>\n",
              "    </tr>\n",
              "  </thead>\n",
              "  <tbody>\n",
              "    <tr>\n",
              "      <th>0</th>\n",
              "      <td>0.00100</td>\n",
              "      <td>SGD</td>\n",
              "      <td>200</td>\n",
              "      <td>2.301933</td>\n",
              "      <td>0.1819</td>\n",
              "    </tr>\n",
              "    <tr>\n",
              "      <th>1</th>\n",
              "      <td>0.00050</td>\n",
              "      <td>SGD</td>\n",
              "      <td>10</td>\n",
              "      <td>2.301583</td>\n",
              "      <td>0.1510</td>\n",
              "    </tr>\n",
              "    <tr>\n",
              "      <th>2</th>\n",
              "      <td>0.00010</td>\n",
              "      <td>SGD</td>\n",
              "      <td>100</td>\n",
              "      <td>2.301552</td>\n",
              "      <td>0.1476</td>\n",
              "    </tr>\n",
              "    <tr>\n",
              "      <th>3</th>\n",
              "      <td>0.00100</td>\n",
              "      <td>Adam</td>\n",
              "      <td>10</td>\n",
              "      <td>0.377362</td>\n",
              "      <td>0.8872</td>\n",
              "    </tr>\n",
              "    <tr>\n",
              "      <th>4</th>\n",
              "      <td>0.00001</td>\n",
              "      <td>Adam</td>\n",
              "      <td>500</td>\n",
              "      <td>0.353859</td>\n",
              "      <td>0.8950</td>\n",
              "    </tr>\n",
              "    <tr>\n",
              "      <th>5</th>\n",
              "      <td>0.00050</td>\n",
              "      <td>Adam</td>\n",
              "      <td>200</td>\n",
              "      <td>0.344005</td>\n",
              "      <td>0.8989</td>\n",
              "    </tr>\n",
              "    <tr>\n",
              "      <th>6</th>\n",
              "      <td>0.00001</td>\n",
              "      <td>RMSprop</td>\n",
              "      <td>50</td>\n",
              "      <td>0.314848</td>\n",
              "      <td>0.9044</td>\n",
              "    </tr>\n",
              "    <tr>\n",
              "      <th>7</th>\n",
              "      <td>0.00001</td>\n",
              "      <td>RMSprop</td>\n",
              "      <td>100</td>\n",
              "      <td>0.288190</td>\n",
              "      <td>0.9131</td>\n",
              "    </tr>\n",
              "    <tr>\n",
              "      <th>8</th>\n",
              "      <td>0.00050</td>\n",
              "      <td>RMSprop</td>\n",
              "      <td>100</td>\n",
              "      <td>0.271240</td>\n",
              "      <td>0.9186</td>\n",
              "    </tr>\n",
              "  </tbody>\n",
              "</table>\n",
              "</div>\n",
              "      <button class=\"colab-df-convert\" onclick=\"convertToInteractive('df-69041257-7c6c-441a-bd48-bff42604f3b3')\"\n",
              "              title=\"Convert this dataframe to an interactive table.\"\n",
              "              style=\"display:none;\">\n",
              "        \n",
              "  <svg xmlns=\"http://www.w3.org/2000/svg\" height=\"24px\"viewBox=\"0 0 24 24\"\n",
              "       width=\"24px\">\n",
              "    <path d=\"M0 0h24v24H0V0z\" fill=\"none\"/>\n",
              "    <path d=\"M18.56 5.44l.94 2.06.94-2.06 2.06-.94-2.06-.94-.94-2.06-.94 2.06-2.06.94zm-11 1L8.5 8.5l.94-2.06 2.06-.94-2.06-.94L8.5 2.5l-.94 2.06-2.06.94zm10 10l.94 2.06.94-2.06 2.06-.94-2.06-.94-.94-2.06-.94 2.06-2.06.94z\"/><path d=\"M17.41 7.96l-1.37-1.37c-.4-.4-.92-.59-1.43-.59-.52 0-1.04.2-1.43.59L10.3 9.45l-7.72 7.72c-.78.78-.78 2.05 0 2.83L4 21.41c.39.39.9.59 1.41.59.51 0 1.02-.2 1.41-.59l7.78-7.78 2.81-2.81c.8-.78.8-2.07 0-2.86zM5.41 20L4 18.59l7.72-7.72 1.47 1.35L5.41 20z\"/>\n",
              "  </svg>\n",
              "      </button>\n",
              "      \n",
              "  <style>\n",
              "    .colab-df-container {\n",
              "      display:flex;\n",
              "      flex-wrap:wrap;\n",
              "      gap: 12px;\n",
              "    }\n",
              "\n",
              "    .colab-df-convert {\n",
              "      background-color: #E8F0FE;\n",
              "      border: none;\n",
              "      border-radius: 50%;\n",
              "      cursor: pointer;\n",
              "      display: none;\n",
              "      fill: #1967D2;\n",
              "      height: 32px;\n",
              "      padding: 0 0 0 0;\n",
              "      width: 32px;\n",
              "    }\n",
              "\n",
              "    .colab-df-convert:hover {\n",
              "      background-color: #E2EBFA;\n",
              "      box-shadow: 0px 1px 2px rgba(60, 64, 67, 0.3), 0px 1px 3px 1px rgba(60, 64, 67, 0.15);\n",
              "      fill: #174EA6;\n",
              "    }\n",
              "\n",
              "    [theme=dark] .colab-df-convert {\n",
              "      background-color: #3B4455;\n",
              "      fill: #D2E3FC;\n",
              "    }\n",
              "\n",
              "    [theme=dark] .colab-df-convert:hover {\n",
              "      background-color: #434B5C;\n",
              "      box-shadow: 0px 1px 3px 1px rgba(0, 0, 0, 0.15);\n",
              "      filter: drop-shadow(0px 1px 2px rgba(0, 0, 0, 0.3));\n",
              "      fill: #FFFFFF;\n",
              "    }\n",
              "  </style>\n",
              "\n",
              "      <script>\n",
              "        const buttonEl =\n",
              "          document.querySelector('#df-69041257-7c6c-441a-bd48-bff42604f3b3 button.colab-df-convert');\n",
              "        buttonEl.style.display =\n",
              "          google.colab.kernel.accessAllowed ? 'block' : 'none';\n",
              "\n",
              "        async function convertToInteractive(key) {\n",
              "          const element = document.querySelector('#df-69041257-7c6c-441a-bd48-bff42604f3b3');\n",
              "          const dataTable =\n",
              "            await google.colab.kernel.invokeFunction('convertToInteractive',\n",
              "                                                     [key], {});\n",
              "          if (!dataTable) return;\n",
              "\n",
              "          const docLinkHtml = 'Like what you see? Visit the ' +\n",
              "            '<a target=\"_blank\" href=https://colab.research.google.com/notebooks/data_table.ipynb>data table notebook</a>'\n",
              "            + ' to learn more about interactive tables.';\n",
              "          element.innerHTML = '';\n",
              "          dataTable['output_type'] = 'display_data';\n",
              "          await google.colab.output.renderOutput(dataTable, element);\n",
              "          const docLink = document.createElement('div');\n",
              "          docLink.innerHTML = docLinkHtml;\n",
              "          element.appendChild(docLink);\n",
              "        }\n",
              "      </script>\n",
              "    </div>\n",
              "  </div>\n",
              "  "
            ]
          },
          "metadata": {},
          "execution_count": 50
        }
      ]
    },
    {
      "cell_type": "markdown",
      "source": [
        "For the model 1 ( the Lth layer will have more filters than the (L-1)th layer) what I did was to try to make 3 model with different optimizers ( SGD, Adam, RMSprop). I tried to give a randomly learning rate and batch size and then tried to check what each optimizer performed with that values. Here as we can see that SGD has almost no change in accuracy even with the batch and learning rate change. While the Adam optimizer performs better with batch size of 200 and learning rate of 0.0005. While the optimizer RMSprop can have a accuracy of 0.918 that is the best with the learning rate of 0.0005 and batch size of 100."
      ],
      "metadata": {
        "id": "bYlZ9nA7gEI1"
      }
    },
    {
      "cell_type": "code",
      "source": [
        "#Retraining on the most optimal parameters\n",
        "model = model\n",
        "RMSprop = tensorflow.keras.optimizers.RMSprop(learning_rate= 0.0005)\n",
        "model.compile(loss=\"categorical_crossentropy\", metrics=[\"accuracy\"], optimizer= RMSprop)\n",
        "\n",
        "model.fit(X,y, epochs= 10,batch_size = 1100)\n",
        "loss,accuracy = model.evaluate(X_test,y_test)\n",
        "\n",
        "print(\"Accuracy of model is : {0}\".format(accuracy))"
      ],
      "metadata": {
        "colab": {
          "base_uri": "https://localhost:8080/"
        },
        "id": "If22VdPbG4MG",
        "outputId": "aa325ab5-8ff4-4194-8dea-02076f1385b3"
      },
      "execution_count": null,
      "outputs": [
        {
          "output_type": "stream",
          "name": "stdout",
          "text": [
            "Epoch 1/10\n",
            "55/55 [==============================] - 6s 71ms/step - loss: 0.1379 - accuracy: 0.9612\n",
            "Epoch 2/10\n",
            "55/55 [==============================] - 3s 57ms/step - loss: 0.0916 - accuracy: 0.9721\n",
            "Epoch 3/10\n",
            "55/55 [==============================] - 3s 58ms/step - loss: 0.0757 - accuracy: 0.9767\n",
            "Epoch 4/10\n",
            "55/55 [==============================] - 3s 57ms/step - loss: 0.0650 - accuracy: 0.9800\n",
            "Epoch 5/10\n",
            "55/55 [==============================] - 3s 58ms/step - loss: 0.0546 - accuracy: 0.9834\n",
            "Epoch 6/10\n",
            "55/55 [==============================] - 3s 58ms/step - loss: 0.0471 - accuracy: 0.9855\n",
            "Epoch 7/10\n",
            "55/55 [==============================] - 3s 58ms/step - loss: 0.0414 - accuracy: 0.9869\n",
            "Epoch 8/10\n",
            "55/55 [==============================] - 3s 58ms/step - loss: 0.0364 - accuracy: 0.9883\n",
            "Epoch 9/10\n",
            "55/55 [==============================] - 3s 59ms/step - loss: 0.0340 - accuracy: 0.9891\n",
            "Epoch 10/10\n",
            "55/55 [==============================] - 3s 60ms/step - loss: 0.0296 - accuracy: 0.9906\n",
            "313/313 [==============================] - 2s 5ms/step - loss: 0.0519 - accuracy: 0.9829\n",
            "Accuracy of model is : 0.9829000234603882\n"
          ]
        }
      ]
    },
    {
      "cell_type": "markdown",
      "source": [
        " # **Model 2:- the Lth layer will have less filters than the (L-1)th layer.**"
      ],
      "metadata": {
        "id": "5cH-SFDrIHpB"
      }
    },
    {
      "cell_type": "code",
      "source": [
        "model = Sequential()\n",
        "model.add(Conv2D(filters= 64, kernel_size= 3, activation=\"relu\",  input_shape=(28, 28, 1)))\n",
        "model.add(Conv2D(filters= 40, kernel_size= 3, activation=\"relu\"))\n",
        "# model.add(MaxPool2D())\n",
        "model.add(Conv2D(filters= 34, kernel_size= 3 , activation=\"relu\"))\n",
        "model.add(Conv2D(filters= 28, kernel_size= 3 ,activation=\"relu\"))\n",
        "model.add(MaxPool2D())\n",
        "model.add(Conv2D(filters= 24, kernel_size= 3, activation=\"relu\"))\n",
        "model.add(Conv2D(filters= 18, kernel_size=3, activation=\"relu\"))\n",
        "model.add(Conv2D(filters= 16, kernel_size=3, activation=\"relu\"))\n",
        "model.add(Conv2D(filters= 14, kernel_size=3, padding = \"Same\",activation=\"relu\"))\n",
        "model.add(MaxPool2D())\n",
        "model.add(Conv2D(filters= 6, kernel_size=1,activation=\"relu\"))\n",
        "model.add(Conv2D(filters= 4, kernel_size=1, activation=\"relu\"))\n",
        "model.add(Flatten())\n",
        "model.add(Dense(32, activation=\"relu\"))\n",
        "model.add(Dense(10, activation=\"softmax\"))\n",
        "\n",
        "mod = model\n",
        "mod.summary()"
      ],
      "metadata": {
        "id": "xyO-RNmDH12S",
        "colab": {
          "base_uri": "https://localhost:8080/"
        },
        "outputId": "a6b3fc43-939f-4b4b-b266-c41ff171b32a"
      },
      "execution_count": null,
      "outputs": [
        {
          "output_type": "stream",
          "name": "stdout",
          "text": [
            "Model: \"sequential_4\"\n",
            "_________________________________________________________________\n",
            " Layer (type)                Output Shape              Param #   \n",
            "=================================================================\n",
            " conv2d_40 (Conv2D)          (None, 26, 26, 64)        640       \n",
            "                                                                 \n",
            " conv2d_41 (Conv2D)          (None, 24, 24, 40)        23080     \n",
            "                                                                 \n",
            " conv2d_42 (Conv2D)          (None, 22, 22, 34)        12274     \n",
            "                                                                 \n",
            " conv2d_43 (Conv2D)          (None, 20, 20, 28)        8596      \n",
            "                                                                 \n",
            " max_pooling2d_4 (MaxPooling  (None, 10, 10, 28)       0         \n",
            " 2D)                                                             \n",
            "                                                                 \n",
            " conv2d_44 (Conv2D)          (None, 8, 8, 24)          6072      \n",
            "                                                                 \n",
            " conv2d_45 (Conv2D)          (None, 6, 6, 18)          3906      \n",
            "                                                                 \n",
            " conv2d_46 (Conv2D)          (None, 4, 4, 16)          2608      \n",
            "                                                                 \n",
            " conv2d_47 (Conv2D)          (None, 4, 4, 14)          2030      \n",
            "                                                                 \n",
            " max_pooling2d_5 (MaxPooling  (None, 2, 2, 14)         0         \n",
            " 2D)                                                             \n",
            "                                                                 \n",
            " conv2d_48 (Conv2D)          (None, 2, 2, 6)           90        \n",
            "                                                                 \n",
            " conv2d_49 (Conv2D)          (None, 2, 2, 4)           28        \n",
            "                                                                 \n",
            " flatten_4 (Flatten)         (None, 16)                0         \n",
            "                                                                 \n",
            " dense_8 (Dense)             (None, 32)                544       \n",
            "                                                                 \n",
            " dense_9 (Dense)             (None, 10)                330       \n",
            "                                                                 \n",
            "=================================================================\n",
            "Total params: 60,198\n",
            "Trainable params: 60,198\n",
            "Non-trainable params: 0\n",
            "_________________________________________________________________\n"
          ]
        }
      ]
    },
    {
      "cell_type": "code",
      "source": [
        "lr=0.00001\n",
        "lr_rate=[0.0005,0.0001, 0.001, 0.00001, 0.000001]\n",
        "batch_sizes = [10,50,100,200,500,1000]\n",
        "Learning_rate = []\n",
        "Loss = []\n",
        "batch_size = []\n",
        "Accuracy = []\n",
        "opt = []\n",
        "name=[\"SGD\",\"Adam\",\"RMSprop\"]\n",
        "model_list = [tensorflow.keras.optimizers.SGD(learning_rate= lr),tensorflow.keras.optimizers.Adam(learning_rate= lr,beta_1 =0.8), tensorflow.keras.optimizers.RMSprop(learning_rate= lr)]\n",
        "for optimization_method,k in zip(model_list,name):\n",
        "    for i in range(3):\n",
        "      lr = lr_rate[np.random.randint(0,len(lr_rate)-1)]\n",
        "      batch = np.random.randint(0,len(batch_sizes)-1)\n",
        "      model = model\n",
        "      print('The type of optimizer we are using is :-')\n",
        "      print((k))\n",
        "      model.compile(loss='categorical_crossentropy',optimizer = optimization_method,metrics = ['accuracy'])\n",
        "      model.fit(X,y, epochs= 1,batch_size = batch_sizes[batch])\n",
        "      loss,accuracy = model.evaluate(X_test,y_test)\n",
        "\n",
        "      Learning_rate.append(lr)\n",
        "      Loss.append(loss)\n",
        "      Accuracy.append(accuracy)\n",
        "      batch_size.append(batch_sizes[batch])\n",
        "\n",
        "      print('Accuracy on the Validation Data is {0} and the loss is {1}'.format(accuracy,loss))"
      ],
      "metadata": {
        "colab": {
          "base_uri": "https://localhost:8080/"
        },
        "id": "4DB6pWNEIZcu",
        "outputId": "2e1621b0-e4a0-4aec-dc85-c80b3445878b"
      },
      "execution_count": null,
      "outputs": [
        {
          "output_type": "stream",
          "name": "stdout",
          "text": [
            "The type of optimizer we are using is :-\n",
            "SGD\n",
            "1200/1200 [==============================] - 9s 7ms/step - loss: 2.3026 - accuracy: 0.1103\n",
            "313/313 [==============================] - 1s 3ms/step - loss: 2.3026 - accuracy: 0.1230\n",
            "Accuracy on the Validation Data is 0.12300000339746475 and the loss is 2.302565813064575\n",
            "The type of optimizer we are using is :-\n",
            "SGD\n",
            "600/600 [==============================] - 7s 10ms/step - loss: 2.3026 - accuracy: 0.1252\n",
            "313/313 [==============================] - 1s 3ms/step - loss: 2.3026 - accuracy: 0.1296\n",
            "Accuracy on the Validation Data is 0.12960000336170197 and the loss is 2.3025505542755127\n",
            "The type of optimizer we are using is :-\n",
            "SGD\n",
            "120/120 [==============================] - 5s 41ms/step - loss: 2.3026 - accuracy: 0.1268\n",
            "313/313 [==============================] - 52s 4ms/step - loss: 2.3025 - accuracy: 0.1307\n",
            "Accuracy on the Validation Data is 0.1307000070810318 and the loss is 2.3025479316711426\n",
            "The type of optimizer we are using is :-\n",
            "Adam\n",
            "300/300 [==============================] - 6s 19ms/step - loss: 2.3007 - accuracy: 0.1801\n",
            "313/313 [==============================] - 1s 4ms/step - loss: 2.2942 - accuracy: 0.1959\n",
            "Accuracy on the Validation Data is 0.19589999318122864 and the loss is 2.2942113876342773\n",
            "The type of optimizer we are using is :-\n",
            "Adam\n",
            "120/120 [==============================] - 6s 41ms/step - loss: 2.2818 - accuracy: 0.2122\n",
            "313/313 [==============================] - 1s 3ms/step - loss: 2.2584 - accuracy: 0.2060\n",
            "Accuracy on the Validation Data is 0.20600000023841858 and the loss is 2.258392572402954\n",
            "The type of optimizer we are using is :-\n",
            "Adam\n",
            "300/300 [==============================] - 6s 19ms/step - loss: 2.0919 - accuracy: 0.2663\n",
            "313/313 [==============================] - 1s 3ms/step - loss: 1.9046 - accuracy: 0.2844\n",
            "Accuracy on the Validation Data is 0.28439998626708984 and the loss is 1.9045661687850952\n",
            "The type of optimizer we are using is :-\n",
            "RMSprop\n",
            "300/300 [==============================] - 7s 19ms/step - loss: 1.8430 - accuracy: 0.3071\n",
            "313/313 [==============================] - 1s 4ms/step - loss: 1.7648 - accuracy: 0.3088\n",
            "Accuracy on the Validation Data is 0.30880001187324524 and the loss is 1.764838457107544\n",
            "The type of optimizer we are using is :-\n",
            "RMSprop\n",
            "1200/1200 [==============================] - 11s 8ms/step - loss: 1.6199 - accuracy: 0.4177\n",
            "313/313 [==============================] - 1s 3ms/step - loss: 1.4226 - accuracy: 0.5177\n",
            "Accuracy on the Validation Data is 0.5177000164985657 and the loss is 1.4225867986679077\n",
            "The type of optimizer we are using is :-\n",
            "RMSprop\n",
            "120/120 [==============================] - 6s 41ms/step - loss: 1.4203 - accuracy: 0.5260\n",
            "313/313 [==============================] - 1s 3ms/step - loss: 1.3597 - accuracy: 0.5458\n",
            "Accuracy on the Validation Data is 0.545799970626831 and the loss is 1.3597197532653809\n"
          ]
        }
      ]
    },
    {
      "cell_type": "code",
      "source": [
        "# Visualizng the Results\n",
        "df = pd.DataFrame(Learning_rate,columns=['Learning Rate'])\n",
        "df['Optimizers'] = [\"SGD\",\"SGD\",\"SGD\",\"Adam\",\"Adam\",\"Adam\",\"RMSprop\",\"RMSprop\",\"RMSprop\"]\n",
        "df['Batch_size'] = batch_size\n",
        "df['Loss'] = Loss\n",
        "df['Accuracy'] = Accuracy"
      ],
      "metadata": {
        "id": "oSCRJ4DeZ-VA"
      },
      "execution_count": null,
      "outputs": []
    },
    {
      "cell_type": "code",
      "source": [
        "df"
      ],
      "metadata": {
        "colab": {
          "base_uri": "https://localhost:8080/",
          "height": 332
        },
        "id": "bUme325FbSc1",
        "outputId": "d5268f96-dd1b-4079-9bfd-ebe392c5b281"
      },
      "execution_count": null,
      "outputs": [
        {
          "output_type": "execute_result",
          "data": {
            "text/plain": [
              "   Learning Rate Optimizers  Batch_size      Loss  Accuracy\n",
              "0        0.00100        SGD          50  2.302566    0.1230\n",
              "1        0.00100        SGD         100  2.302551    0.1296\n",
              "2        0.00010        SGD         500  2.302548    0.1307\n",
              "3        0.00010       Adam         200  2.294211    0.1959\n",
              "4        0.00100       Adam         500  2.258393    0.2060\n",
              "5        0.00001       Adam         200  1.904566    0.2844\n",
              "6        0.00050    RMSprop         200  1.764838    0.3088\n",
              "7        0.00010    RMSprop          50  1.422587    0.5177\n",
              "8        0.00100    RMSprop         500  1.359720    0.5458"
            ],
            "text/html": [
              "\n",
              "  <div id=\"df-84e29d02-c13a-4de0-91bb-3ea4a8cb1d77\">\n",
              "    <div class=\"colab-df-container\">\n",
              "      <div>\n",
              "<style scoped>\n",
              "    .dataframe tbody tr th:only-of-type {\n",
              "        vertical-align: middle;\n",
              "    }\n",
              "\n",
              "    .dataframe tbody tr th {\n",
              "        vertical-align: top;\n",
              "    }\n",
              "\n",
              "    .dataframe thead th {\n",
              "        text-align: right;\n",
              "    }\n",
              "</style>\n",
              "<table border=\"1\" class=\"dataframe\">\n",
              "  <thead>\n",
              "    <tr style=\"text-align: right;\">\n",
              "      <th></th>\n",
              "      <th>Learning Rate</th>\n",
              "      <th>Optimizers</th>\n",
              "      <th>Batch_size</th>\n",
              "      <th>Loss</th>\n",
              "      <th>Accuracy</th>\n",
              "    </tr>\n",
              "  </thead>\n",
              "  <tbody>\n",
              "    <tr>\n",
              "      <th>0</th>\n",
              "      <td>0.00100</td>\n",
              "      <td>SGD</td>\n",
              "      <td>50</td>\n",
              "      <td>2.302566</td>\n",
              "      <td>0.1230</td>\n",
              "    </tr>\n",
              "    <tr>\n",
              "      <th>1</th>\n",
              "      <td>0.00100</td>\n",
              "      <td>SGD</td>\n",
              "      <td>100</td>\n",
              "      <td>2.302551</td>\n",
              "      <td>0.1296</td>\n",
              "    </tr>\n",
              "    <tr>\n",
              "      <th>2</th>\n",
              "      <td>0.00010</td>\n",
              "      <td>SGD</td>\n",
              "      <td>500</td>\n",
              "      <td>2.302548</td>\n",
              "      <td>0.1307</td>\n",
              "    </tr>\n",
              "    <tr>\n",
              "      <th>3</th>\n",
              "      <td>0.00010</td>\n",
              "      <td>Adam</td>\n",
              "      <td>200</td>\n",
              "      <td>2.294211</td>\n",
              "      <td>0.1959</td>\n",
              "    </tr>\n",
              "    <tr>\n",
              "      <th>4</th>\n",
              "      <td>0.00100</td>\n",
              "      <td>Adam</td>\n",
              "      <td>500</td>\n",
              "      <td>2.258393</td>\n",
              "      <td>0.2060</td>\n",
              "    </tr>\n",
              "    <tr>\n",
              "      <th>5</th>\n",
              "      <td>0.00001</td>\n",
              "      <td>Adam</td>\n",
              "      <td>200</td>\n",
              "      <td>1.904566</td>\n",
              "      <td>0.2844</td>\n",
              "    </tr>\n",
              "    <tr>\n",
              "      <th>6</th>\n",
              "      <td>0.00050</td>\n",
              "      <td>RMSprop</td>\n",
              "      <td>200</td>\n",
              "      <td>1.764838</td>\n",
              "      <td>0.3088</td>\n",
              "    </tr>\n",
              "    <tr>\n",
              "      <th>7</th>\n",
              "      <td>0.00010</td>\n",
              "      <td>RMSprop</td>\n",
              "      <td>50</td>\n",
              "      <td>1.422587</td>\n",
              "      <td>0.5177</td>\n",
              "    </tr>\n",
              "    <tr>\n",
              "      <th>8</th>\n",
              "      <td>0.00100</td>\n",
              "      <td>RMSprop</td>\n",
              "      <td>500</td>\n",
              "      <td>1.359720</td>\n",
              "      <td>0.5458</td>\n",
              "    </tr>\n",
              "  </tbody>\n",
              "</table>\n",
              "</div>\n",
              "      <button class=\"colab-df-convert\" onclick=\"convertToInteractive('df-84e29d02-c13a-4de0-91bb-3ea4a8cb1d77')\"\n",
              "              title=\"Convert this dataframe to an interactive table.\"\n",
              "              style=\"display:none;\">\n",
              "        \n",
              "  <svg xmlns=\"http://www.w3.org/2000/svg\" height=\"24px\"viewBox=\"0 0 24 24\"\n",
              "       width=\"24px\">\n",
              "    <path d=\"M0 0h24v24H0V0z\" fill=\"none\"/>\n",
              "    <path d=\"M18.56 5.44l.94 2.06.94-2.06 2.06-.94-2.06-.94-.94-2.06-.94 2.06-2.06.94zm-11 1L8.5 8.5l.94-2.06 2.06-.94-2.06-.94L8.5 2.5l-.94 2.06-2.06.94zm10 10l.94 2.06.94-2.06 2.06-.94-2.06-.94-.94-2.06-.94 2.06-2.06.94z\"/><path d=\"M17.41 7.96l-1.37-1.37c-.4-.4-.92-.59-1.43-.59-.52 0-1.04.2-1.43.59L10.3 9.45l-7.72 7.72c-.78.78-.78 2.05 0 2.83L4 21.41c.39.39.9.59 1.41.59.51 0 1.02-.2 1.41-.59l7.78-7.78 2.81-2.81c.8-.78.8-2.07 0-2.86zM5.41 20L4 18.59l7.72-7.72 1.47 1.35L5.41 20z\"/>\n",
              "  </svg>\n",
              "      </button>\n",
              "      \n",
              "  <style>\n",
              "    .colab-df-container {\n",
              "      display:flex;\n",
              "      flex-wrap:wrap;\n",
              "      gap: 12px;\n",
              "    }\n",
              "\n",
              "    .colab-df-convert {\n",
              "      background-color: #E8F0FE;\n",
              "      border: none;\n",
              "      border-radius: 50%;\n",
              "      cursor: pointer;\n",
              "      display: none;\n",
              "      fill: #1967D2;\n",
              "      height: 32px;\n",
              "      padding: 0 0 0 0;\n",
              "      width: 32px;\n",
              "    }\n",
              "\n",
              "    .colab-df-convert:hover {\n",
              "      background-color: #E2EBFA;\n",
              "      box-shadow: 0px 1px 2px rgba(60, 64, 67, 0.3), 0px 1px 3px 1px rgba(60, 64, 67, 0.15);\n",
              "      fill: #174EA6;\n",
              "    }\n",
              "\n",
              "    [theme=dark] .colab-df-convert {\n",
              "      background-color: #3B4455;\n",
              "      fill: #D2E3FC;\n",
              "    }\n",
              "\n",
              "    [theme=dark] .colab-df-convert:hover {\n",
              "      background-color: #434B5C;\n",
              "      box-shadow: 0px 1px 3px 1px rgba(0, 0, 0, 0.15);\n",
              "      filter: drop-shadow(0px 1px 2px rgba(0, 0, 0, 0.3));\n",
              "      fill: #FFFFFF;\n",
              "    }\n",
              "  </style>\n",
              "\n",
              "      <script>\n",
              "        const buttonEl =\n",
              "          document.querySelector('#df-84e29d02-c13a-4de0-91bb-3ea4a8cb1d77 button.colab-df-convert');\n",
              "        buttonEl.style.display =\n",
              "          google.colab.kernel.accessAllowed ? 'block' : 'none';\n",
              "\n",
              "        async function convertToInteractive(key) {\n",
              "          const element = document.querySelector('#df-84e29d02-c13a-4de0-91bb-3ea4a8cb1d77');\n",
              "          const dataTable =\n",
              "            await google.colab.kernel.invokeFunction('convertToInteractive',\n",
              "                                                     [key], {});\n",
              "          if (!dataTable) return;\n",
              "\n",
              "          const docLinkHtml = 'Like what you see? Visit the ' +\n",
              "            '<a target=\"_blank\" href=https://colab.research.google.com/notebooks/data_table.ipynb>data table notebook</a>'\n",
              "            + ' to learn more about interactive tables.';\n",
              "          element.innerHTML = '';\n",
              "          dataTable['output_type'] = 'display_data';\n",
              "          await google.colab.output.renderOutput(dataTable, element);\n",
              "          const docLink = document.createElement('div');\n",
              "          docLink.innerHTML = docLinkHtml;\n",
              "          element.appendChild(docLink);\n",
              "        }\n",
              "      </script>\n",
              "    </div>\n",
              "  </div>\n",
              "  "
            ]
          },
          "metadata": {},
          "execution_count": 56
        }
      ]
    },
    {
      "cell_type": "markdown",
      "source": [
        "For the model 2 ( the Lth layer will have more filters than the (L-1)th layer) what I did was to try to make 3 model with different optimizers ( SGD, Adam, RMSprop). I tried to give a randomly learning rate and batch size and then tried to check what each optimizer performed with that values. Here as we can see that SGD has almost no change in accuracy even with the batch and learning rate change. While the Adam optimizer performs better with batch size of 200 and learning rate of 0.000001.  While the optimizer RMSprop can have a accuracy of 0.5458 that is the best with the learning rate of 0.001 and batch size of 500."
      ],
      "metadata": {
        "id": "E3fSI2gSs4Yj"
      }
    },
    {
      "cell_type": "code",
      "source": [
        "#Retraining on the most optimal parameters\n",
        "model = model\n",
        "RMSprop = tensorflow.keras.optimizers.RMSprop(learning_rate= 0.001)\n",
        "model.compile(loss=\"categorical_crossentropy\", metrics=[\"accuracy\"], optimizer= RMSprop)\n",
        "\n",
        "model.fit(X,y, epochs= 10,batch_size = 500)\n",
        "loss,accuracy = model.evaluate(X_test,y_test)\n",
        "\n",
        "print(\"Accuracy of model is : {0}\".format(accuracy))"
      ],
      "metadata": {
        "colab": {
          "base_uri": "https://localhost:8080/"
        },
        "id": "PWIDOSiEbTEY",
        "outputId": "b3035b5a-a0c0-48fb-a37d-0a7e14a38629"
      },
      "execution_count": null,
      "outputs": [
        {
          "output_type": "stream",
          "name": "stdout",
          "text": [
            "Epoch 1/10\n",
            "120/120 [==============================] - 6s 41ms/step - loss: 1.8485 - accuracy: 0.3536\n",
            "Epoch 2/10\n",
            "120/120 [==============================] - 5s 41ms/step - loss: 0.8974 - accuracy: 0.7382\n",
            "Epoch 3/10\n",
            "120/120 [==============================] - 5s 42ms/step - loss: 0.4401 - accuracy: 0.8747\n",
            "Epoch 4/10\n",
            "120/120 [==============================] - 5s 41ms/step - loss: 0.2665 - accuracy: 0.9230\n",
            "Epoch 5/10\n",
            "120/120 [==============================] - 5s 41ms/step - loss: 0.1834 - accuracy: 0.9465\n",
            "Epoch 6/10\n",
            "120/120 [==============================] - 5s 41ms/step - loss: 0.1324 - accuracy: 0.9610\n",
            "Epoch 7/10\n",
            "120/120 [==============================] - 5s 41ms/step - loss: 0.1071 - accuracy: 0.9680\n",
            "Epoch 8/10\n",
            "120/120 [==============================] - 5s 41ms/step - loss: 0.0860 - accuracy: 0.9752\n",
            "Epoch 9/10\n",
            "120/120 [==============================] - 5s 41ms/step - loss: 0.0734 - accuracy: 0.9783\n",
            "Epoch 10/10\n",
            "120/120 [==============================] - 5s 41ms/step - loss: 0.0644 - accuracy: 0.9807\n",
            "313/313 [==============================] - 1s 4ms/step - loss: 0.0551 - accuracy: 0.9833\n",
            "Accuracy of model is : 0.983299970626831\n"
          ]
        }
      ]
    },
    {
      "cell_type": "markdown",
      "source": [
        "The Accuracy of the model is 0.9833"
      ],
      "metadata": {
        "id": "p7R9erQFtVWC"
      }
    },
    {
      "cell_type": "markdown",
      "source": [
        "# **Model 3:- An hour-glass shaped CNN where the number of filters will increase till the Lth layer and reduce afterwards.**"
      ],
      "metadata": {
        "id": "xkG9mQHpbjm_"
      }
    },
    {
      "cell_type": "code",
      "source": [
        "model = Sequential()\n",
        "model.add(Conv2D(filters= 4, kernel_size= 5, activation=\"relu\",  input_shape=(28, 28, 1)))\n",
        "model.add(Conv2D(filters= 6, kernel_size= 5, activation=\"relu\"))\n",
        "# model.add(MaxPool2D())\n",
        "model.add(Conv2D(filters= 12, kernel_size= 3 , activation=\"relu\"))\n",
        "model.add(Conv2D(filters= 24, kernel_size= 3 ,activation=\"relu\"))\n",
        "# model.add(MaxPool2D())\n",
        "model.add(Conv2D(filters= 40, kernel_size= 3, activation=\"relu\"))\n",
        "model.add(Conv2D(filters= 56, kernel_size=3, activation=\"relu\"))\n",
        "model.add(Conv2D(filters= 40, kernel_size=3, activation=\"relu\"))\n",
        "model.add(Conv2D(filters= 24, kernel_size=3,activation=\"relu\"))\n",
        "# model.add(MaxPool2D())\n",
        "model.add(Conv2D(filters= 12, kernel_size=3,activation=\"relu\"))\n",
        "model.add(Conv2D(filters= 6, kernel_size=5, activation=\"relu\"))\n",
        "model.add(Flatten())\n",
        "model.add(Dense(16, activation=\"relu\"))\n",
        "model.add(Dense(10, activation=\"softmax\"))"
      ],
      "metadata": {
        "id": "uiPTRhHebWpB"
      },
      "execution_count": null,
      "outputs": []
    },
    {
      "cell_type": "code",
      "source": [
        "mod = model\n",
        "mod.summary()"
      ],
      "metadata": {
        "colab": {
          "base_uri": "https://localhost:8080/"
        },
        "id": "ZXWX0T8AcB8j",
        "outputId": "3ba8b713-95d3-4d9f-ee67-bf1b2e11a053"
      },
      "execution_count": null,
      "outputs": [
        {
          "output_type": "stream",
          "name": "stdout",
          "text": [
            "Model: \"sequential_5\"\n",
            "_________________________________________________________________\n",
            " Layer (type)                Output Shape              Param #   \n",
            "=================================================================\n",
            " conv2d_50 (Conv2D)          (None, 24, 24, 4)         104       \n",
            "                                                                 \n",
            " conv2d_51 (Conv2D)          (None, 20, 20, 6)         606       \n",
            "                                                                 \n",
            " conv2d_52 (Conv2D)          (None, 18, 18, 12)        660       \n",
            "                                                                 \n",
            " conv2d_53 (Conv2D)          (None, 16, 16, 24)        2616      \n",
            "                                                                 \n",
            " conv2d_54 (Conv2D)          (None, 14, 14, 40)        8680      \n",
            "                                                                 \n",
            " conv2d_55 (Conv2D)          (None, 12, 12, 56)        20216     \n",
            "                                                                 \n",
            " conv2d_56 (Conv2D)          (None, 10, 10, 40)        20200     \n",
            "                                                                 \n",
            " conv2d_57 (Conv2D)          (None, 8, 8, 24)          8664      \n",
            "                                                                 \n",
            " conv2d_58 (Conv2D)          (None, 6, 6, 12)          2604      \n",
            "                                                                 \n",
            " conv2d_59 (Conv2D)          (None, 2, 2, 6)           1806      \n",
            "                                                                 \n",
            " flatten_5 (Flatten)         (None, 24)                0         \n",
            "                                                                 \n",
            " dense_10 (Dense)            (None, 16)                400       \n",
            "                                                                 \n",
            " dense_11 (Dense)            (None, 10)                170       \n",
            "                                                                 \n",
            "=================================================================\n",
            "Total params: 66,726\n",
            "Trainable params: 66,726\n",
            "Non-trainable params: 0\n",
            "_________________________________________________________________\n"
          ]
        }
      ]
    },
    {
      "cell_type": "code",
      "source": [
        "lr=0.00001\n",
        "lr_rate=[0.0005,0.0001, 0.001, 0.00001, 0.000001]\n",
        "batch_sizes = [10,50,100,200,500,1000]\n",
        "Learning_rate = []\n",
        "Loss = []\n",
        "batch_size = []\n",
        "Accuracy = []\n",
        "opt = []\n",
        "name=[\"SGD\",\"Adam\",\"RMSprop\"]\n",
        "model_list = [tensorflow.keras.optimizers.SGD(learning_rate= lr),tensorflow.keras.optimizers.Adam(learning_rate= lr,beta_1 =0.8), tensorflow.keras.optimizers.RMSprop(learning_rate= lr)]\n",
        "for optimization_method,k in zip(model_list,name):\n",
        "    for i in range(3):\n",
        "      lr = lr_rate[np.random.randint(0,len(lr_rate)-1)]\n",
        "      batch = np.random.randint(0,len(batch_sizes)-1)\n",
        "      model = model\n",
        "      print('The type of optimizer we are using is :-')\n",
        "      print((k))\n",
        "      model.compile(loss='categorical_crossentropy',optimizer = optimization_method,metrics = ['accuracy'])\n",
        "      model.fit(X,y, epochs= 1,batch_size = batch_sizes[batch])\n",
        "      loss,accuracy = model.evaluate(X_test,y_test)\n",
        "\n",
        "      Learning_rate.append(lr)\n",
        "      Loss.append(loss)\n",
        "      Accuracy.append(accuracy)\n",
        "      batch_size.append(batch_sizes[batch])\n",
        "\n",
        "      print('Accuracy on the Validation Data is {0} and the loss is {1}'.format(accuracy,loss))"
      ],
      "metadata": {
        "colab": {
          "base_uri": "https://localhost:8080/"
        },
        "id": "80BWm-ENcKE9",
        "outputId": "9734a537-3a4a-4b7e-8e2f-cb5a37e2bc41"
      },
      "execution_count": null,
      "outputs": [
        {
          "output_type": "stream",
          "name": "stdout",
          "text": [
            "The type of optimizer we are using is :-\n",
            "SGD\n",
            "300/300 [==============================] - 3s 9ms/step - loss: 2.3025 - accuracy: 0.1180\n",
            "313/313 [==============================] - 1s 4ms/step - loss: 2.3025 - accuracy: 0.1156\n",
            "Accuracy on the Validation Data is 0.11559999734163284 and the loss is 2.3024871349334717\n",
            "The type of optimizer we are using is :-\n",
            "SGD\n",
            "1200/1200 [==============================] - 7s 5ms/step - loss: 2.3025 - accuracy: 0.1174\n",
            "313/313 [==============================] - 1s 3ms/step - loss: 2.3025 - accuracy: 0.1142\n",
            "Accuracy on the Validation Data is 0.11420000344514847 and the loss is 2.302457332611084\n",
            "The type of optimizer we are using is :-\n",
            "SGD\n",
            "120/120 [==============================] - 3s 21ms/step - loss: 2.3025 - accuracy: 0.1166\n",
            "313/313 [==============================] - 2s 5ms/step - loss: 2.3025 - accuracy: 0.1133\n",
            "Accuracy on the Validation Data is 0.11330000311136246 and the loss is 2.3024539947509766\n",
            "The type of optimizer we are using is :-\n",
            "Adam\n",
            "6000/6000 [==============================] - 32s 5ms/step - loss: 2.0601 - accuracy: 0.2389\n",
            "313/313 [==============================] - 1s 4ms/step - loss: 1.8830 - accuracy: 0.2946\n",
            "Accuracy on the Validation Data is 0.2946000099182129 and the loss is 1.8829541206359863\n",
            "The type of optimizer we are using is :-\n",
            "Adam\n",
            "6000/6000 [==============================] - 32s 5ms/step - loss: 1.7465 - accuracy: 0.3660\n",
            "313/313 [==============================] - 1s 4ms/step - loss: 1.5520 - accuracy: 0.4675\n",
            "Accuracy on the Validation Data is 0.4675000011920929 and the loss is 1.5520415306091309\n",
            "The type of optimizer we are using is :-\n",
            "Adam\n",
            "600/600 [==============================] - 5s 6ms/step - loss: 1.5576 - accuracy: 0.4685\n",
            "313/313 [==============================] - 1s 4ms/step - loss: 1.5147 - accuracy: 0.4828\n",
            "Accuracy on the Validation Data is 0.4828000068664551 and the loss is 1.514699101448059\n",
            "The type of optimizer we are using is :-\n",
            "RMSprop\n",
            "120/120 [==============================] - 4s 21ms/step - loss: 1.5270 - accuracy: 0.4811\n",
            "313/313 [==============================] - 1s 3ms/step - loss: 1.4888 - accuracy: 0.4927\n",
            "Accuracy on the Validation Data is 0.4927000105381012 and the loss is 1.4887765645980835\n",
            "The type of optimizer we are using is :-\n",
            "RMSprop\n",
            "300/300 [==============================] - 4s 10ms/step - loss: 1.4949 - accuracy: 0.4939\n",
            "313/313 [==============================] - 1s 3ms/step - loss: 1.4453 - accuracy: 0.5108\n",
            "Accuracy on the Validation Data is 0.5108000040054321 and the loss is 1.4453195333480835\n",
            "The type of optimizer we are using is :-\n",
            "RMSprop\n",
            "300/300 [==============================] - 4s 10ms/step - loss: 1.4541 - accuracy: 0.5128\n",
            "313/313 [==============================] - 1s 4ms/step - loss: 1.4026 - accuracy: 0.5320\n",
            "Accuracy on the Validation Data is 0.5320000052452087 and the loss is 1.402575135231018\n"
          ]
        }
      ]
    },
    {
      "cell_type": "code",
      "source": [
        "# Visualizng the Results\n",
        "df = pd.DataFrame(Learning_rate,columns=['Learning Rate'])\n",
        "df['Optimizers'] = [\"SGD\",\"SGD\",\"SGD\",\"Adam\",\"Adam\",\"Adam\",\"RMSprop\",\"RMSprop\",\"RMSprop\"]\n",
        "df['Batch_size'] = batch_size\n",
        "df['Loss'] = Loss\n",
        "df['Accuracy'] = Accuracy"
      ],
      "metadata": {
        "id": "BQf8Fem-ccGu"
      },
      "execution_count": null,
      "outputs": []
    },
    {
      "cell_type": "code",
      "source": [
        "df"
      ],
      "metadata": {
        "colab": {
          "base_uri": "https://localhost:8080/",
          "height": 332
        },
        "id": "U2qC0AbmdA3X",
        "outputId": "515a542f-29af-4fb4-d47f-95fcb942bf26"
      },
      "execution_count": null,
      "outputs": [
        {
          "output_type": "execute_result",
          "data": {
            "text/plain": [
              "   Learning Rate Optimizers  Batch_size      Loss  Accuracy\n",
              "0        0.00001        SGD         200  2.302487    0.1156\n",
              "1        0.00001        SGD          50  2.302457    0.1142\n",
              "2        0.00050        SGD         500  2.302454    0.1133\n",
              "3        0.00001       Adam          10  1.882954    0.2946\n",
              "4        0.00100       Adam          10  1.552042    0.4675\n",
              "5        0.00050       Adam         100  1.514699    0.4828\n",
              "6        0.00100    RMSprop         500  1.488777    0.4927\n",
              "7        0.00050    RMSprop         200  1.445320    0.5108\n",
              "8        0.00050    RMSprop         200  1.402575    0.5320"
            ],
            "text/html": [
              "\n",
              "  <div id=\"df-a5e99927-2fcc-41a9-b2da-613aa7125e34\">\n",
              "    <div class=\"colab-df-container\">\n",
              "      <div>\n",
              "<style scoped>\n",
              "    .dataframe tbody tr th:only-of-type {\n",
              "        vertical-align: middle;\n",
              "    }\n",
              "\n",
              "    .dataframe tbody tr th {\n",
              "        vertical-align: top;\n",
              "    }\n",
              "\n",
              "    .dataframe thead th {\n",
              "        text-align: right;\n",
              "    }\n",
              "</style>\n",
              "<table border=\"1\" class=\"dataframe\">\n",
              "  <thead>\n",
              "    <tr style=\"text-align: right;\">\n",
              "      <th></th>\n",
              "      <th>Learning Rate</th>\n",
              "      <th>Optimizers</th>\n",
              "      <th>Batch_size</th>\n",
              "      <th>Loss</th>\n",
              "      <th>Accuracy</th>\n",
              "    </tr>\n",
              "  </thead>\n",
              "  <tbody>\n",
              "    <tr>\n",
              "      <th>0</th>\n",
              "      <td>0.00001</td>\n",
              "      <td>SGD</td>\n",
              "      <td>200</td>\n",
              "      <td>2.302487</td>\n",
              "      <td>0.1156</td>\n",
              "    </tr>\n",
              "    <tr>\n",
              "      <th>1</th>\n",
              "      <td>0.00001</td>\n",
              "      <td>SGD</td>\n",
              "      <td>50</td>\n",
              "      <td>2.302457</td>\n",
              "      <td>0.1142</td>\n",
              "    </tr>\n",
              "    <tr>\n",
              "      <th>2</th>\n",
              "      <td>0.00050</td>\n",
              "      <td>SGD</td>\n",
              "      <td>500</td>\n",
              "      <td>2.302454</td>\n",
              "      <td>0.1133</td>\n",
              "    </tr>\n",
              "    <tr>\n",
              "      <th>3</th>\n",
              "      <td>0.00001</td>\n",
              "      <td>Adam</td>\n",
              "      <td>10</td>\n",
              "      <td>1.882954</td>\n",
              "      <td>0.2946</td>\n",
              "    </tr>\n",
              "    <tr>\n",
              "      <th>4</th>\n",
              "      <td>0.00100</td>\n",
              "      <td>Adam</td>\n",
              "      <td>10</td>\n",
              "      <td>1.552042</td>\n",
              "      <td>0.4675</td>\n",
              "    </tr>\n",
              "    <tr>\n",
              "      <th>5</th>\n",
              "      <td>0.00050</td>\n",
              "      <td>Adam</td>\n",
              "      <td>100</td>\n",
              "      <td>1.514699</td>\n",
              "      <td>0.4828</td>\n",
              "    </tr>\n",
              "    <tr>\n",
              "      <th>6</th>\n",
              "      <td>0.00100</td>\n",
              "      <td>RMSprop</td>\n",
              "      <td>500</td>\n",
              "      <td>1.488777</td>\n",
              "      <td>0.4927</td>\n",
              "    </tr>\n",
              "    <tr>\n",
              "      <th>7</th>\n",
              "      <td>0.00050</td>\n",
              "      <td>RMSprop</td>\n",
              "      <td>200</td>\n",
              "      <td>1.445320</td>\n",
              "      <td>0.5108</td>\n",
              "    </tr>\n",
              "    <tr>\n",
              "      <th>8</th>\n",
              "      <td>0.00050</td>\n",
              "      <td>RMSprop</td>\n",
              "      <td>200</td>\n",
              "      <td>1.402575</td>\n",
              "      <td>0.5320</td>\n",
              "    </tr>\n",
              "  </tbody>\n",
              "</table>\n",
              "</div>\n",
              "      <button class=\"colab-df-convert\" onclick=\"convertToInteractive('df-a5e99927-2fcc-41a9-b2da-613aa7125e34')\"\n",
              "              title=\"Convert this dataframe to an interactive table.\"\n",
              "              style=\"display:none;\">\n",
              "        \n",
              "  <svg xmlns=\"http://www.w3.org/2000/svg\" height=\"24px\"viewBox=\"0 0 24 24\"\n",
              "       width=\"24px\">\n",
              "    <path d=\"M0 0h24v24H0V0z\" fill=\"none\"/>\n",
              "    <path d=\"M18.56 5.44l.94 2.06.94-2.06 2.06-.94-2.06-.94-.94-2.06-.94 2.06-2.06.94zm-11 1L8.5 8.5l.94-2.06 2.06-.94-2.06-.94L8.5 2.5l-.94 2.06-2.06.94zm10 10l.94 2.06.94-2.06 2.06-.94-2.06-.94-.94-2.06-.94 2.06-2.06.94z\"/><path d=\"M17.41 7.96l-1.37-1.37c-.4-.4-.92-.59-1.43-.59-.52 0-1.04.2-1.43.59L10.3 9.45l-7.72 7.72c-.78.78-.78 2.05 0 2.83L4 21.41c.39.39.9.59 1.41.59.51 0 1.02-.2 1.41-.59l7.78-7.78 2.81-2.81c.8-.78.8-2.07 0-2.86zM5.41 20L4 18.59l7.72-7.72 1.47 1.35L5.41 20z\"/>\n",
              "  </svg>\n",
              "      </button>\n",
              "      \n",
              "  <style>\n",
              "    .colab-df-container {\n",
              "      display:flex;\n",
              "      flex-wrap:wrap;\n",
              "      gap: 12px;\n",
              "    }\n",
              "\n",
              "    .colab-df-convert {\n",
              "      background-color: #E8F0FE;\n",
              "      border: none;\n",
              "      border-radius: 50%;\n",
              "      cursor: pointer;\n",
              "      display: none;\n",
              "      fill: #1967D2;\n",
              "      height: 32px;\n",
              "      padding: 0 0 0 0;\n",
              "      width: 32px;\n",
              "    }\n",
              "\n",
              "    .colab-df-convert:hover {\n",
              "      background-color: #E2EBFA;\n",
              "      box-shadow: 0px 1px 2px rgba(60, 64, 67, 0.3), 0px 1px 3px 1px rgba(60, 64, 67, 0.15);\n",
              "      fill: #174EA6;\n",
              "    }\n",
              "\n",
              "    [theme=dark] .colab-df-convert {\n",
              "      background-color: #3B4455;\n",
              "      fill: #D2E3FC;\n",
              "    }\n",
              "\n",
              "    [theme=dark] .colab-df-convert:hover {\n",
              "      background-color: #434B5C;\n",
              "      box-shadow: 0px 1px 3px 1px rgba(0, 0, 0, 0.15);\n",
              "      filter: drop-shadow(0px 1px 2px rgba(0, 0, 0, 0.3));\n",
              "      fill: #FFFFFF;\n",
              "    }\n",
              "  </style>\n",
              "\n",
              "      <script>\n",
              "        const buttonEl =\n",
              "          document.querySelector('#df-a5e99927-2fcc-41a9-b2da-613aa7125e34 button.colab-df-convert');\n",
              "        buttonEl.style.display =\n",
              "          google.colab.kernel.accessAllowed ? 'block' : 'none';\n",
              "\n",
              "        async function convertToInteractive(key) {\n",
              "          const element = document.querySelector('#df-a5e99927-2fcc-41a9-b2da-613aa7125e34');\n",
              "          const dataTable =\n",
              "            await google.colab.kernel.invokeFunction('convertToInteractive',\n",
              "                                                     [key], {});\n",
              "          if (!dataTable) return;\n",
              "\n",
              "          const docLinkHtml = 'Like what you see? Visit the ' +\n",
              "            '<a target=\"_blank\" href=https://colab.research.google.com/notebooks/data_table.ipynb>data table notebook</a>'\n",
              "            + ' to learn more about interactive tables.';\n",
              "          element.innerHTML = '';\n",
              "          dataTable['output_type'] = 'display_data';\n",
              "          await google.colab.output.renderOutput(dataTable, element);\n",
              "          const docLink = document.createElement('div');\n",
              "          docLink.innerHTML = docLinkHtml;\n",
              "          element.appendChild(docLink);\n",
              "        }\n",
              "      </script>\n",
              "    </div>\n",
              "  </div>\n",
              "  "
            ]
          },
          "metadata": {},
          "execution_count": 62
        }
      ]
    },
    {
      "cell_type": "markdown",
      "source": [
        "For the model 2 ( the Lth layer will have more filters than the (L-1)th layer) what I did was to try to make 3 model with different optimizers ( SGD, Adam, RMSprop). I tried to give a randomly learning rate and batch size and then tried to check what each optimizer performed with that values. Here as we can see that SGD has almost no change in accuracy even with the batch and learning rate change. While the Adam optimizer performs better with batch size of 100 and learning rate of 0.0005.  While the optimizer RMSprop can have a accuracy of 0.532 that is the best with the learning rate of 0.0005 and batch size of 200."
      ],
      "metadata": {
        "id": "qqqsog5oxhj-"
      }
    },
    {
      "cell_type": "code",
      "source": [
        "#Retraining on the most optimal parameters\n",
        "model = model\n",
        "RMSprop = tensorflow.keras.optimizers.RMSprop(learning_rate= 0.0005)\n",
        "model.compile(loss=\"categorical_crossentropy\", metrics=[\"accuracy\"], optimizer= RMSprop)\n",
        "\n",
        "model.fit(X,y, epochs= 10,batch_size = 200)\n",
        "loss,accuracy = model.evaluate(X_test,y_test)\n",
        "\n",
        "print(\"Accuracy of model is : {0}\".format(accuracy))"
      ],
      "metadata": {
        "colab": {
          "base_uri": "https://localhost:8080/"
        },
        "id": "uBJQC390dBSw",
        "outputId": "c4d82f0a-dd08-4df8-f2d4-352919b30259"
      },
      "execution_count": null,
      "outputs": [
        {
          "output_type": "stream",
          "name": "stdout",
          "text": [
            "Epoch 1/10\n",
            "300/300 [==============================] - 4s 10ms/step - loss: 0.1609 - accuracy: 0.9543\n",
            "Epoch 2/10\n",
            "300/300 [==============================] - 3s 10ms/step - loss: 0.1371 - accuracy: 0.9598\n",
            "Epoch 3/10\n",
            "300/300 [==============================] - 3s 10ms/step - loss: 0.1217 - accuracy: 0.9645\n",
            "Epoch 4/10\n",
            "300/300 [==============================] - 3s 10ms/step - loss: 0.1096 - accuracy: 0.9681\n",
            "Epoch 5/10\n",
            "300/300 [==============================] - 3s 10ms/step - loss: 0.1003 - accuracy: 0.9702\n",
            "Epoch 6/10\n",
            "300/300 [==============================] - 3s 10ms/step - loss: 0.0911 - accuracy: 0.9737\n",
            "Epoch 7/10\n",
            "300/300 [==============================] - 3s 10ms/step - loss: 0.0826 - accuracy: 0.9753\n",
            "Epoch 8/10\n",
            "300/300 [==============================] - 3s 10ms/step - loss: 0.0765 - accuracy: 0.9771\n",
            "Epoch 9/10\n",
            "300/300 [==============================] - 3s 10ms/step - loss: 0.0707 - accuracy: 0.9792\n",
            "Epoch 10/10\n",
            "300/300 [==============================] - 3s 10ms/step - loss: 0.0667 - accuracy: 0.9805\n",
            "313/313 [==============================] - 1s 3ms/step - loss: 0.0794 - accuracy: 0.9769\n",
            "Accuracy of model is : 0.9768999814987183\n"
          ]
        }
      ]
    },
    {
      "cell_type": "markdown",
      "source": [
        "The Accuracy of the model is 0.976"
      ],
      "metadata": {
        "id": "OhZ6p5Y13Ked"
      }
    },
    {
      "cell_type": "code",
      "source": [],
      "metadata": {
        "id": "LgUXLDkVdNKP"
      },
      "execution_count": null,
      "outputs": []
    }
  ]
}